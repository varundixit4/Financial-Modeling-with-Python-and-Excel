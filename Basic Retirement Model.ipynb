{
 "cells": [
  {
   "cell_type": "markdown",
   "id": "9f20f41c",
   "metadata": {},
   "source": [
    "# Inputs"
   ]
  },
  {
   "cell_type": "code",
   "execution_count": 1,
   "id": "7a5ed6b5",
   "metadata": {},
   "outputs": [],
   "source": [
    "salary = 60000\n",
    "savings_rate = 0.25\n",
    "investment_rate = 0.05\n",
    "desired_cash = 1500000"
   ]
  },
  {
   "cell_type": "markdown",
   "id": "4902d5f4",
   "metadata": {},
   "source": [
    "# Determining cash saved"
   ]
  },
  {
   "cell_type": "code",
   "execution_count": 6,
   "id": "ca9fad60",
   "metadata": {},
   "outputs": [
    {
     "data": {
      "text/plain": [
       "15000.0"
      ]
     },
     "execution_count": 6,
     "metadata": {},
     "output_type": "execute_result"
    }
   ],
   "source": [
    "annual_cash = salary * savings_rate\n",
    "annual_cash"
   ]
  },
  {
   "cell_type": "markdown",
   "id": "17eba98e",
   "metadata": {},
   "source": [
    "# Years to retirement"
   ]
  },
  {
   "cell_type": "code",
   "execution_count": 12,
   "id": "61e244ef",
   "metadata": {},
   "outputs": [],
   "source": [
    "import numpy_financial as npf"
   ]
  },
  {
   "cell_type": "code",
   "execution_count": 16,
   "id": "5da1f0e0",
   "metadata": {},
   "outputs": [],
   "source": [
    "years = npf.nper(investment_rate, -annual_cash, 0, desired_cash)"
   ]
  },
  {
   "cell_type": "code",
   "execution_count": 26,
   "id": "7af44567",
   "metadata": {},
   "outputs": [
    {
     "name": "stdout",
     "output_type": "stream",
     "text": [
      "The number of years to retirement is 36.7\n"
     ]
    }
   ],
   "source": [
    "print(f'The number of years to retirement is {years:.1f}')"
   ]
  },
  {
   "cell_type": "markdown",
   "id": "488d30da",
   "metadata": {},
   "source": [
    "# Iterating using multiple interest rates"
   ]
  },
  {
   "cell_type": "code",
   "execution_count": 30,
   "id": "9590ea4b",
   "metadata": {},
   "outputs": [],
   "source": [
    "rates = [0.05, 0.06, 0.07]"
   ]
  },
  {
   "cell_type": "code",
   "execution_count": 36,
   "id": "cd4b3b4d",
   "metadata": {},
   "outputs": [
    {
     "name": "stdout",
     "output_type": "stream",
     "text": [
      "The number of years to retirement is 36.7 for an interest rate of  5%\n",
      "The number of years to retirement is 33.4 for an interest rate of  6%\n",
      "The number of years to retirement is 30.7 for an interest rate of  7%\n"
     ]
    }
   ],
   "source": [
    "for i in rates:\n",
    "    year = npf.nper(i, -annual_cash, 0, desired_cash)\n",
    "    print(f'The number of years to retirement is {year:.1f} for an interest rate of {i: .0%}')"
   ]
  },
  {
   "cell_type": "markdown",
   "id": "6b54acc5",
   "metadata": {},
   "source": [
    "# Lab"
   ]
  },
  {
   "cell_type": "code",
   "execution_count": 39,
   "id": "f44bd6c1",
   "metadata": {},
   "outputs": [],
   "source": [
    "interest_rates = [0.04, 0.05, 0.06]\n",
    "savings_rates = [0.10, 0.25, 0.40]"
   ]
  },
  {
   "cell_type": "code",
   "execution_count": 40,
   "id": "a0a9c7be",
   "metadata": {},
   "outputs": [
    {
     "name": "stdout",
     "output_type": "stream",
     "text": [
      "The number of years to retirement is 61.1 for an interest rate of  4% and savings rate of  10%\n",
      "The number of years to retirement is 53.3 for an interest rate of  5% and savings rate of  10%\n",
      "The number of years to retirement is 47.6 for an interest rate of  6% and savings rate of  10%\n",
      "The number of years to retirement is 41.0 for an interest rate of  4% and savings rate of  25%\n",
      "The number of years to retirement is 36.7 for an interest rate of  5% and savings rate of  25%\n",
      "The number of years to retirement is 33.4 for an interest rate of  6% and savings rate of  25%\n",
      "The number of years to retirement is 31.9 for an interest rate of  4% and savings rate of  40%\n",
      "The number of years to retirement is 29.0 for an interest rate of  5% and savings rate of  40%\n",
      "The number of years to retirement is 26.7 for an interest rate of  6% and savings rate of  40%\n"
     ]
    }
   ],
   "source": [
    "for i in savings_rates:\n",
    "    for j in interest_rates:\n",
    "        annual_cash = i*salary\n",
    "        year = npf.nper(j, -annual_cash, 0, desired_cash)\n",
    "        print(f'The number of years to retirement is {year:.1f} for an interest rate of {j: .0%} and savings rate of {i: .0%}')"
   ]
  },
  {
   "cell_type": "code",
   "execution_count": null,
   "id": "62640c5e",
   "metadata": {},
   "outputs": [],
   "source": []
  }
 ],
 "metadata": {
  "kernelspec": {
   "display_name": "Python 3 (ipykernel)",
   "language": "python",
   "name": "python3"
  },
  "language_info": {
   "codemirror_mode": {
    "name": "ipython",
    "version": 3
   },
   "file_extension": ".py",
   "mimetype": "text/x-python",
   "name": "python",
   "nbconvert_exporter": "python",
   "pygments_lexer": "ipython3",
   "version": "3.10.9"
  }
 },
 "nbformat": 4,
 "nbformat_minor": 5
}
